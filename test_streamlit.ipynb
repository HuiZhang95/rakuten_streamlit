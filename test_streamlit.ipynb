{
 "cells": [
  {
   "cell_type": "code",
   "execution_count": null,
   "metadata": {},
   "outputs": [],
   "source": [
    "\n",
    "def load_rnn():\n",
    "    with open('model_RNN.pkl','rb') as f:  # Python 3: open(..., 'rb')\n",
    "        _, model, _, _ = pickle.load(f)\n",
    "    return model\n",
    "\n",
    "\n",
    "def load_svc():\n",
    "    with open('images_hz/model_SVC.pkl','rb') as f:\n",
    "        model, _, _ = pickle.load(f)\n",
    "    return model\n",
    "\n",
    "def prediction(classifier):\n",
    "    if classifier == 'RNN':\n",
    "        clf = load_rnn()\n",
    "    elif classifier == 'SVC':\n",
    "        clf = load_svc()\n",
    "    return clf\n",
    "\n",
    "def scores(clf, user_input_word):\n",
    "    return prediction(option).predict(user_input_word)\n",
    "\n",
    "\n",
    "# use the st.selectbox() method to choose between the RandomForest classifier, the SVM classifier and the LogisticRegression classifier. Then return to the Streamlit web application to view the select box.\n",
    "choice = ['RNN', 'SVC']\n",
    "option = st.selectbox('Choice of the model', choice)\n",
    "st.write('The chosen model is :', option)\n",
    "\n",
    "user_input_word = st.text_input(\"Input a sentense: \", 'Merry Christmas!')\n",
    "output_st = scores(user_input_word)\n",
    "st.write('The input text is likely to be category :\\n', output_st)"
   ]
  }
 ],
 "metadata": {
  "language_info": {
   "name": "python"
  }
 },
 "nbformat": 4,
 "nbformat_minor": 2
}
